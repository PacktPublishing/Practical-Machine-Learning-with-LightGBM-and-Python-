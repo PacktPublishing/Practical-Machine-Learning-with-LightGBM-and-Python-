{
 "cells": [
  {
   "cell_type": "code",
   "execution_count": 1,
   "metadata": {
    "collapsed": false
   },
   "outputs": [
    {
     "data": {
      "text/plain": [
       "'0.18.1'"
      ]
     },
     "execution_count": 1,
     "metadata": {},
     "output_type": "execute_result"
    }
   ],
   "source": [
    "# confirm SciKit-Learn version\n",
    "import sklearn\n",
    "sklearn.__version__"
   ]
  },
  {
   "cell_type": "code",
   "execution_count": 2,
   "metadata": {
    "collapsed": true
   },
   "outputs": [],
   "source": [
    "# import tool to create sample classification datasets \n",
    "from sklearn.datasets import make_classification"
   ]
  },
  {
   "cell_type": "code",
   "execution_count": 3,
   "metadata": {
    "collapsed": true
   },
   "outputs": [],
   "source": [
    "# import evaluation metric and confusion matrix\n",
    "from sklearn.metrics import accuracy_score, confusion_matrix"
   ]
  },
  {
   "cell_type": "code",
   "execution_count": 4,
   "metadata": {
    "collapsed": false
   },
   "outputs": [
    {
     "data": {
      "text/plain": [
       "'3.1.1'"
      ]
     },
     "execution_count": 4,
     "metadata": {},
     "output_type": "execute_result"
    }
   ],
   "source": [
    "# import LightGBM \n",
    "import lightgbm\n",
    "lightgbm.__version__"
   ]
  },
  {
   "cell_type": "code",
   "execution_count": 24,
   "metadata": {
    "collapsed": false
   },
   "outputs": [],
   "source": [
    "# create the sample dataset\n",
    "X, y = make_classification(n_samples=2000, n_features=25, n_classes=5, class_sep=0.75, n_informative=5)\n",
    "\n",
    "# create train and test values\n",
    "X_train = X[:1500]\n",
    "y_train = y[:1500]\n",
    "X_test = X[1500:]\n",
    "y_test = y[1500:]"
   ]
  },
  {
   "cell_type": "code",
   "execution_count": 25,
   "metadata": {
    "collapsed": false
   },
   "outputs": [
    {
     "data": {
      "text/plain": [
       "LGBMClassifier(boosting_type='gbdt', class_weight=None, colsample_bytree=1.0,\n",
       "        importance_type='split', learning_rate=0.1, max_depth=-1,\n",
       "        min_child_samples=20, min_child_weight=0.001, min_split_gain=0.0,\n",
       "        n_estimators=100, n_jobs=-1, num_leaves=31, objective='multiclass',\n",
       "        random_state=None, reg_alpha=0.0, reg_lambda=0.0, silent=True,\n",
       "        subsample=1.0, subsample_for_bin=200000, subsample_freq=0)"
      ]
     },
     "execution_count": 25,
     "metadata": {},
     "output_type": "execute_result"
    }
   ],
   "source": [
    "# define first multiclass classification model\n",
    "lgb_multi_1 = lightgbm.LGBMClassifier(objective='multiclass')\n",
    "\n",
    "# model fitting on training dataset\n",
    "lgb_multi_1.fit(X_train, y_train)"
   ]
  },
  {
   "cell_type": "code",
   "execution_count": 26,
   "metadata": {
    "collapsed": false
   },
   "outputs": [
    {
     "data": {
      "text/plain": [
       "LGBMClassifier(boosting_type='gbdt', class_weight=None, colsample_bytree=1.0,\n",
       "        importance_type='split', learning_rate=0.1, max_depth=-1,\n",
       "        min_child_samples=20, min_child_weight=0.001, min_split_gain=0.0,\n",
       "        n_estimators=100, n_jobs=-1, num_leaves=100,\n",
       "        objective='multiclass', random_state=None, reg_alpha=0.0,\n",
       "        reg_lambda=0.0, silent=True, subsample=1.0,\n",
       "        subsample_for_bin=200000, subsample_freq=0)"
      ]
     },
     "execution_count": 26,
     "metadata": {},
     "output_type": "execute_result"
    }
   ],
   "source": [
    "# define second multiclass classification model\n",
    "lgb_multi_2 = lightgbm.LGBMClassifier(objective='multiclass', num_leaves=100)\n",
    "\n",
    "# model fitting on sample dataset\n",
    "lgb_multi_2.fit(X_train, y_train)"
   ]
  },
  {
   "cell_type": "code",
   "execution_count": 32,
   "metadata": {
    "collapsed": false
   },
   "outputs": [
    {
     "data": {
      "text/plain": [
       "LGBMClassifier(boosting_type='gbdt', class_weight=None, colsample_bytree=1.0,\n",
       "        importance_type='split', learning_rate=0.1, max_depth=-1,\n",
       "        min_child_samples=20, min_child_weight=0.001, min_split_gain=0.0,\n",
       "        n_estimators=250, n_jobs=-1, num_leaves=100,\n",
       "        objective='multiclass', random_state=None, reg_alpha=0.0,\n",
       "        reg_lambda=0.0, silent=True, subsample=1.0,\n",
       "        subsample_for_bin=200000, subsample_freq=0)"
      ]
     },
     "execution_count": 32,
     "metadata": {},
     "output_type": "execute_result"
    }
   ],
   "source": [
    "# define third multiclass classification model\n",
    "lgb_multi_3 = lightgbm.LGBMClassifier(objective='multiclass', num_leaves=100, n_estimators=250)\n",
    "\n",
    "# model fitting on sample dataset\n",
    "lgb_multi_3.fit(X_train, y_train)"
   ]
  },
  {
   "cell_type": "code",
   "execution_count": 28,
   "metadata": {
    "collapsed": false
   },
   "outputs": [
    {
     "name": "stdout",
     "output_type": "stream",
     "text": [
      "Accuracy for classifier 1:\n",
      "0.594\n",
      "Confusion matrix for classifier 1:\n",
      "[[80  2  3  4  7]\n",
      " [ 8 47 15 12 14]\n",
      " [21 11 45 18  9]\n",
      " [ 6 12  1 76 19]\n",
      " [ 9 11 10 11 49]]\n"
     ]
    },
    {
     "name": "stderr",
     "output_type": "stream",
     "text": [
      "C:\\ProgramData\\Anaconda3\\lib\\site-packages\\sklearn\\preprocessing\\label.py:171: DeprecationWarning: The truth value of an empty array is ambiguous. Returning False, but in future this will result in an error. Use `array.size > 0` to check that an array is not empty.\n",
      "  if diff:\n"
     ]
    }
   ],
   "source": [
    "# make predictions from training set\n",
    "y_multi_1 = lgb_multi_1.predict(X_test)\n",
    "\n",
    "# accuracy\n",
    "print(\"Accuracy for classifier 1:\")\n",
    "print(accuracy_score(y_test, y_multi_1))\n",
    "\n",
    "# confusion matrix \n",
    "print(\"Confusion matrix for classifier 1:\")\n",
    "print(confusion_matrix(y_test, y_multi_1))"
   ]
  },
  {
   "cell_type": "code",
   "execution_count": 29,
   "metadata": {
    "collapsed": false
   },
   "outputs": [
    {
     "name": "stdout",
     "output_type": "stream",
     "text": [
      "Accuracy for classifier 2:\n",
      "0.598\n",
      "Confusion matrix for classifier 2:\n",
      "[[80  4  3  4  5]\n",
      " [ 7 50 13 13 13]\n",
      " [22  9 46 17 10]\n",
      " [ 4 12  1 73 24]\n",
      " [ 7  8 11 14 50]]\n"
     ]
    },
    {
     "name": "stderr",
     "output_type": "stream",
     "text": [
      "C:\\ProgramData\\Anaconda3\\lib\\site-packages\\sklearn\\preprocessing\\label.py:171: DeprecationWarning: The truth value of an empty array is ambiguous. Returning False, but in future this will result in an error. Use `array.size > 0` to check that an array is not empty.\n",
      "  if diff:\n"
     ]
    }
   ],
   "source": [
    "# make predictions from training set\n",
    "y_multi_2 = lgb_multi_2.predict(X_test)\n",
    "\n",
    "# accuracy\n",
    "print(\"Accuracy for classifier 2:\")\n",
    "print(accuracy_score(y_test, y_multi_2))\n",
    "\n",
    "# confusion matrix \n",
    "print(\"Confusion matrix for classifier 2:\")\n",
    "print(confusion_matrix(y_test, y_multi_2))"
   ]
  },
  {
   "cell_type": "code",
   "execution_count": 33,
   "metadata": {
    "collapsed": false
   },
   "outputs": [
    {
     "name": "stdout",
     "output_type": "stream",
     "text": [
      "Accuracy for classifier 3:\n",
      "0.612\n",
      "Confusion matrix for classifier 3:\n",
      "[[80  5  1  4  6]\n",
      " [ 7 51 12 12 14]\n",
      " [21 11 50 14  8]\n",
      " [ 4 13  0 75 22]\n",
      " [10 10  8 12 50]]\n"
     ]
    },
    {
     "name": "stderr",
     "output_type": "stream",
     "text": [
      "C:\\ProgramData\\Anaconda3\\lib\\site-packages\\sklearn\\preprocessing\\label.py:171: DeprecationWarning: The truth value of an empty array is ambiguous. Returning False, but in future this will result in an error. Use `array.size > 0` to check that an array is not empty.\n",
      "  if diff:\n"
     ]
    }
   ],
   "source": [
    "# make predictions from training set\n",
    "y_multi_3 = lgb_multi_3.predict(X_test)\n",
    "\n",
    "# accuracy\n",
    "print(\"Accuracy for classifier 3:\")\n",
    "print(accuracy_score(y_test, y_multi_3))\n",
    "\n",
    "# confusion matrix \n",
    "print(\"Confusion matrix for classifier 3:\")\n",
    "print(confusion_matrix(y_test, y_multi_3))"
   ]
  },
  {
   "cell_type": "code",
   "execution_count": null,
   "metadata": {
    "collapsed": true
   },
   "outputs": [],
   "source": []
  }
 ],
 "metadata": {
  "kernelspec": {
   "display_name": "Python 3",
   "language": "python",
   "name": "python3"
  },
  "language_info": {
   "codemirror_mode": {
    "name": "ipython",
    "version": 3
   },
   "file_extension": ".py",
   "mimetype": "text/x-python",
   "name": "python",
   "nbconvert_exporter": "python",
   "pygments_lexer": "ipython3",
   "version": "3.6.0"
  }
 },
 "nbformat": 4,
 "nbformat_minor": 2
}
